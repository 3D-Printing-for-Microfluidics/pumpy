{
 "cells": [
  {
   "cell_type": "code",
   "execution_count": 1,
   "metadata": {
    "collapsed": true
   },
   "outputs": [],
   "source": [
    "from __future__ import print_function \n",
    "import serial\n",
    "import argparse\n",
    "import logging"
   ]
  },
  {
   "cell_type": "code",
   "execution_count": 2,
   "metadata": {
    "collapsed": true
   },
   "outputs": [],
   "source": [
    "def remove_crud(string):\n",
    "    \"\"\"Return string without useless information.\n",
    "\n",
    "     Return string with trailing zeros after a decimal place, trailing\n",
    "     decimal points, and leading and trailing spaces removed.\n",
    "     \"\"\"\n",
    "    if \".\" in string:\n",
    "        string = string.rstrip('0')\n",
    "\n",
    "    string = string.lstrip('0 ')\n",
    "    string = string.rstrip(' .')\n",
    "\n",
    "    return string"
   ]
  },
  {
   "cell_type": "code",
   "execution_count": 3,
   "metadata": {
    "collapsed": true
   },
   "outputs": [],
   "source": [
    "class Chain(serial.Serial):\n",
    "    \"\"\"Create Chain object.\n",
    "\n",
    "    Harvard syringe pumps are daisy chained together in a 'pump chain'\n",
    "    off a single serial port. A pump address is set on each pump. You\n",
    "    must first create a chain to which you then add Pump objects.\n",
    "\n",
    "    Chain is a subclass of serial.Serial. Chain creates a serial.Serial\n",
    "    instance with the required parameters, flushes input and output\n",
    "    buffers (found during testing that this fixes a lot of problems) and\n",
    "    logs creation of the Chain.\n",
    "    \"\"\"\n",
    "    def __init__(self, port):\n",
    "        serial.Serial.__init__(self,port=port, stopbits=serial.STOPBITS_TWO, parity=serial.PARITY_NONE, timeout=2)\n",
    "        self.flushOutput()\n",
    "        self.flushInput()\n",
    "        logging.info('Chain created on %s' % port)"
   ]
  },
  {
   "cell_type": "code",
   "execution_count": 4,
   "metadata": {
    "collapsed": true
   },
   "outputs": [],
   "source": [
    "class PumpError(Exception):\n",
    "    pass"
   ]
  },
  {
   "cell_type": "code",
   "execution_count": 174,
   "metadata": {
    "collapsed": true
   },
   "outputs": [],
   "source": [
    "class Pump33:\n",
    "    \"\"\"Create Pump object for Harvard Pump 33.\n",
    "\n",
    "    Argument:\n",
    "        Chain: pump chain\n",
    "\n",
    "    Optional arguments:\n",
    "        address: pump address. Default is 0.\n",
    "        name: used in logging. Default is Pump 33.\n",
    "    \"\"\"\n",
    "    def __init__(self, chain, address=0, name='Pump 33'):\n",
    "        self.name = name\n",
    "        self.serialcon = chain\n",
    "        self.address = '{0:02.0f}'.format(address)\n",
    "        self.mode = None\n",
    "        self.diameter = None\n",
    "        self.flowrate = None\n",
    "        self.targetvolume = None\n",
    "\n",
    "        \"\"\"Query model and version number of firmware to check pump is\n",
    "        OK. Responds with a load of stuff, but the last three characters\n",
    "        are XXY, where XX is the address and Y is pump status. :, > or <\n",
    "        when stopped, running forwards, or running backwards. Confirm\n",
    "        that the address is correct. This acts as a check to see that\n",
    "        the pump is connected and working.\"\"\"\n",
    "        try:\n",
    "            self.write('VER')\n",
    "            resp = self.read(11)\n",
    "\n",
    "            if int(resp[-3:-1]) != int(self.address):\n",
    "                raise PumpError('No response from pump at address %s' %\n",
    "                                self.address)\n",
    "            else:\n",
    "                print (repr(resp))\n",
    "                \n",
    "        except PumpError:\n",
    "            self.serialcon.close()\n",
    "            raise\n",
    "\n",
    "        logging.info('%s: created at address %s on %s' % (self.name,\n",
    "                      self.address, self.serialcon.port))\n",
    "\n",
    "    def __repr__(self):\n",
    "        string = ''\n",
    "        for attr in self.__dict__:\n",
    "            string += '%s: %s\\n' % (attr, self.__dict__[attr]) \n",
    "        return string\n",
    "\n",
    "    def write(self,command):\n",
    "        self.serialcon.write(self.address + command + '\\r')\n",
    "\n",
    "    def read(self,bytes=5):\n",
    "        response = self.serialcon.read(bytes)\n",
    "\n",
    "        if len(response) == 0:\n",
    "            raise PumpError('%s: no response to command' % self.name)\n",
    "        else:\n",
    "            return response\n",
    "        \n",
    "    def setmode(self, mode):\n",
    "        \"\"\"Set pump mode.\n",
    "\n",
    "        Pump 33 has 3 mode: Auto Stop, Proportional, and Continuous. \n",
    "        The Command for them are AUT, PRO, and CON, respectively.\n",
    "        \"\"\"\n",
    "        \n",
    "        # Check if the input is a valid mode\n",
    "        if mode not in ['AUT', 'PRO', 'CON']:\n",
    "            raise PumpError('%s: %s is not a mode name' %(self.name, mode))\n",
    "            \n",
    "        self.write('MOD' + mode)\n",
    "        resp = self.read(5)\n",
    "        \n",
    "        if (resp[-1] == ':' or resp[-1] == '<' or resp[-1] == '>'):\n",
    "            # check if mode has been set correctlry\n",
    "            self.write('MOD')\n",
    "            resp = self.read(15)\n",
    "\n",
    "            returned_mode = resp[1:-4]\n",
    "            \n",
    "            # Check mode was set accurately\n",
    "            if returned_mode != mode:\n",
    "                logging.error('%s: set mode (%s) does not match mode'\n",
    "                              ' returned by pump (%s)' % (self.name, mode, \n",
    "                              returned_mode))\n",
    "            elif returned_mode == mode:\n",
    "                self.mode = mode\n",
    "                logging.info('%s: mode set to %s' % (self.name, self.mode))\n",
    "        else:\n",
    "            raise PumpError('%s: unknown response to setmode' % self.name)\n",
    "    \n",
    "    def setdiameter1(self, diameter):\n",
    "        \"\"\"Set syringe 1 diameter (millimetres).\n",
    "\n",
    "        Pump 33 syringe diameter range is 0.1-50 mm. Note that the diameters\n",
    "        are in the following format: ffffff (e.g. 44.755 or 0.3257) \n",
    "        \"\"\"\n",
    "        if diameter > 50 or diameter < 0.1:\n",
    "            raise PumpError('%s: diameter %s mm is out of range' % (self.name,\n",
    "                            str(diameter)))\n",
    "\n",
    "        # TODO: Got to be a better way of doing this with string formatting\n",
    "        diameter = str(diameter)\n",
    "\n",
    "        # Pump only considers 2 d.p. - anymore are ignored\n",
    "        if len(diameter) > 6:\n",
    "            diameter = diameter[0:6]\n",
    "            diameter = remove_crud(diameter)\n",
    "            logging.warning('%s: diameter truncated to %s mm' % (self.name,\n",
    "                            diameter))\n",
    "        else:\n",
    "            diameter = remove_crud(diameter)\n",
    "\n",
    "        # Send command   \n",
    "        self.write('DIAA' + diameter)\n",
    "        resp = self.read(5)\n",
    "\n",
    "        # Pump replies with address and status (:, < or >)        \n",
    "        if (resp[-1] == ':' or resp[-1] == '<' or resp[-1] == '>'):\n",
    "            # check if diameter has been set correctlry\n",
    "            self.write('DIAA')\n",
    "            resp = self.read(15)\n",
    "\n",
    "            returned_diameter = resp[1:-4]\n",
    "            \n",
    "            # Check diameter was set accurately\n",
    "            if float(returned_diameter) != float(diameter):\n",
    "                logging.error('%s: set diameter (%s mm) does not match diameter'\n",
    "                              'returned by pump (%s mm)' % (self.name, diameter, \n",
    "                                returned_diameter))\n",
    "            elif float(returned_diameter) == float(diameter):\n",
    "                self.diameter = float(returned_diameter)\n",
    "                logging.info('%s: diameter set to %s mm' % (self.name,\n",
    "                             self.diameter))\n",
    "        else:\n",
    "            raise PumpError('%s: unknown response to setdiameter1' % self.name)\n",
    "            \n",
    "    def setdiameter2(self, diameter):\n",
    "        \"\"\"Set syringe 2 diameter (millimetres) (only valid in Proportional \n",
    "        (PRO) mode).\n",
    "\n",
    "        Pump 33 syringe diameter range is 0.1-50 mm. Note that the diameters\n",
    "        are in the following format: ffffff (e.g. 44.755 or 0.3257) \n",
    "        \"\"\"\n",
    "        \n",
    "        # Check if the pump is in Proportional mode\n",
    "        self.write('MOD')\n",
    "        resp = self.read(15)\n",
    "        \n",
    "        returned_mode = resp[1:-4]\n",
    "        \n",
    "        if returned_mode != 'PRO':\n",
    "            raise PumpError('%s: Setting syringe 2 diameter is only valid in '\n",
    "                            'Proportional mode' % self.name)\n",
    "        \n",
    "        if diameter > 50 or diameter < 0.1:\n",
    "            raise PumpError('%s: diameter %s mm is out of range' % \n",
    "                            (self.name, str(diameter)))\n",
    "\n",
    "        # TODO: Got to be a better way of doing this with string formatting\n",
    "        diameter = str(diameter)\n",
    "\n",
    "        # Pump only considers 2 d.p. - anymore are ignored\n",
    "        if len(diameter) > 6:\n",
    "            diameter = diameter[0:6]\n",
    "            diameter = remove_crud(diameter)\n",
    "            logging.warning('%s: diameter truncated to %s mm' % (self.name,\n",
    "                            diameter))\n",
    "        else:\n",
    "            diameter = remove_crud(diameter)\n",
    "\n",
    "        # Send command   \n",
    "        self.write('DIAB' + diameter)\n",
    "        resp = self.read(5)\n",
    "        print (repr(resp))\n",
    "\n",
    "        # Pump replies with address and status (:, < or >)        \n",
    "        if (resp[-1] == ':' or resp[-1] == '<' or resp[-1] == '>'):\n",
    "            # check if diameter has been set correctlry\n",
    "            self.write('DIAB')\n",
    "            resp = self.read(15)\n",
    "            print (repr(resp))\n",
    "\n",
    "            returned_diameter = resp[1:-4]\n",
    "            \n",
    "            # Check diameter was set accurately\n",
    "            if float(returned_diameter) != float(diameter):\n",
    "                logging.error('%s: set diameter (%s mm) does not match diameter'\n",
    "                              ' returned by pump (%s mm)' % (self.name, diameter,\n",
    "                              returned_diameter))\n",
    "            elif float(returned_diameter) == float(diameter):\n",
    "                self.diameter = float(returned_diameter)\n",
    "                logging.info('%s: diameter set to %s mm' % (self.name,\n",
    "                             self.diameter))\n",
    "        else:\n",
    "            raise PumpError('%s: unknown response to setdiameter' % self.name)\n",
    "            \n",
    "    def setflowrate1(self, flowrate):\n",
    "        \"\"\"Set syringe 1 flow rate (microlitres per minute).\n",
    "\n",
    "        Flow rate is converted to a string. Pump 33 requires it to have \n",
    "        the format: ffffff.\n",
    "\n",
    "        The pump will tell you if the specified flow rate is out of\n",
    "        range. This depends on the syringe diameter. See Pump 33 manual.\n",
    "        \"\"\"\n",
    "        flowrate = str(flowrate)\n",
    "\n",
    "        if len(flowrate) > 6:\n",
    "            flowrate = flowrate[0:6]\n",
    "            flowrate = remove_crud(flowrate)\n",
    "            logging.warning('%s: flow rate truncated to %s uL/min' % (self.name, \n",
    "                             flowrate))\n",
    "        else:\n",
    "            flowrate = remove_crud(flowrate)\n",
    "\n",
    "        self.write('RATA' + flowrate + 'UM')\n",
    "        resp = self.read(5)\n",
    "\n",
    "        if (resp[-1] == ':' or resp[-1] == '<' or resp[-1] == '>'):\n",
    "            # Flow rate was sent, check it was set correctly\n",
    "            self.write('RATA')\n",
    "            resp = self.read(15)\n",
    "\n",
    "            returned_flowrate = remove_crud(resp[1:7])\n",
    "            \n",
    "            if float(returned_flowrate) != float(flowrate):\n",
    "                logging.error('%s: set flowrate (%s uL/min) does not match'\n",
    "                              'flowrate returned by pump (%s uL/min)' % \n",
    "                              (self.name, flowrate, returned_flowrate))\n",
    "            elif float(returned_flowrate) == float(flowrate):\n",
    "                self.flowrate = float(returned_flowrate)\n",
    "                logging.info('%s: flow rate set to %s uL/min' % (self.name,\n",
    "                              str(self.flowrate)))\n",
    "        elif 'OOR' in resp:\n",
    "            raise PumpError('%s: flow rate (%s uL/min) is out of range' %\n",
    "                           (self.name, flowrate))\n",
    "        else:\n",
    "            raise PumpError('%s: unknown response' % self.name)\n",
    "            "
   ]
  },
  {
   "cell_type": "code",
   "execution_count": null,
   "metadata": {
    "collapsed": true
   },
   "outputs": [],
   "source": [
    "    def infuse(self):\n",
    "        \"\"\"Start infusing pump.\"\"\"\n",
    "        self.write('RUN')\n",
    "        resp = self.read(5)\n",
    "        while resp[-1] != '>':\n",
    "            if resp[-1] == '<': # wrong direction\n",
    "                self.write('REV')\n",
    "            else:\n",
    "                raise PumpError('%s: unknown response to to infuse' % self.name)\n",
    "            resp = self.serialcon.read(5)\n",
    "        \n",
    "        logging.info('%s: infusing',self.name)\n",
    "\n",
    "    def withdraw(self):\n",
    "        \"\"\"Start withdrawing pump.\"\"\"\n",
    "        self.write('REV')\n",
    "        resp = self.read(5)\n",
    "        \n",
    "        while resp[-1] != '<':\n",
    "            if resp[-1] == ':': # pump not running\n",
    "                self.write('RUN')\n",
    "            elif resp[-1] == '>': # wrong direction\n",
    "                self.write('REV')\n",
    "            else:\n",
    "                raise PumpError('%s: unknown response to withdraw' % self.name)\n",
    "                break\n",
    "            resp = self.read(5)\n",
    "\n",
    "        logging.info('%s: withdrawing',self.name)\n",
    "\n",
    "    def stop(self):\n",
    "        \"\"\"Stop pump.\"\"\"\n",
    "        self.write('STP')\n",
    "        resp = self.read(5)\n",
    "        \n",
    "        if resp[-1] != ':':\n",
    "            raise PumpError('%s: unexpected response to stop' % self.name)\n",
    "        else:\n",
    "            logging.info('%s: stopped',self.name)\n",
    "\n",
    "    def settargetvolume(self, targetvolume):\n",
    "        \"\"\"Set the target volume to infuse or withdraw (microlitres).\"\"\"\n",
    "        self.write('MLT' + str(targetvolume))\n",
    "        resp = self.read(5)\n",
    "\n",
    "        # response should be CRLFXX:, CRLFXX>, CRLFXX< where XX is address\n",
    "        # Pump11 replies with leading zeros, e.g. 03, but PHD2000 misbehaves and \n",
    "        # returns without and gives an extra CR. Use int() to deal with\n",
    "        if resp[-1] == ':' or resp[-1] == '>' or resp[-1] == '<':\n",
    "            self.targetvolume = float(targetvolume)\n",
    "            logging.info('%s: target volume set to %s uL', self.name,\n",
    "                         self.targetvolume)\n",
    "        else:\n",
    "            raise PumpError('%s: target volume not set' % self.name)\n",
    "\n",
    "    def waituntiltarget(self):\n",
    "        \"\"\"Wait until the pump has reached its target volume.\"\"\"\n",
    "        logging.info('%s: waiting until target reached',self.name)\n",
    "        # counter - need it to check if it's the first loop\n",
    "        i = 0\n",
    "    \n",
    "        while True:\n",
    "            # Read once\n",
    "            self.serialcon.write(self.address + 'VOL\\r')\n",
    "            resp1 = self.read(15)\n",
    "\n",
    "            if ':' in resp1 and i == 0:\n",
    "                raise PumpError('%s: not infusing/withdrawing - infuse or '\n",
    "                                'withdraw first', self.name)\n",
    "            elif ':' in resp1 and i != 0:\n",
    "                # pump has already come to a halt\n",
    "                logging.info('%s: target volume reached, stopped',self.name)\n",
    "                break\n",
    "\n",
    "            # Read again\n",
    "            self.serialcon.write(self.address + 'VOL\\r')\n",
    "            resp2 = self.read(15)\n",
    "\n",
    "            # Check if they're the same - if they are, break, otherwise continue\n",
    "            if resp1 == resp2:\n",
    "                logging.info('%s: target volume reached, stopped',self.name)\n",
    "                break\n",
    "\n",
    "            i = i+1"
   ]
  },
  {
   "cell_type": "code",
   "execution_count": 18,
   "metadata": {
    "collapsed": false
   },
   "outputs": [],
   "source": [
    "chain = Chain('COM4')"
   ]
  },
  {
   "cell_type": "code",
   "execution_count": 183,
   "metadata": {
    "collapsed": false
   },
   "outputs": [
    {
     "data": {
      "text/plain": [
       "True"
      ]
     },
     "execution_count": 183,
     "metadata": {},
     "output_type": "execute_result"
    }
   ],
   "source": [
    "chain.isOpen()"
   ]
  },
  {
   "cell_type": "code",
   "execution_count": 182,
   "metadata": {
    "collapsed": true
   },
   "outputs": [],
   "source": [
    "chain.open()"
   ]
  },
  {
   "cell_type": "code",
   "execution_count": 181,
   "metadata": {
    "collapsed": true
   },
   "outputs": [],
   "source": [
    "chain.close()"
   ]
  },
  {
   "cell_type": "code",
   "execution_count": 184,
   "metadata": {
    "collapsed": false,
    "scrolled": true
   },
   "outputs": [
    {
     "name": "stdout",
     "output_type": "stream",
     "text": [
      "'\\n33V2.0\\r\\n0:'\n"
     ]
    }
   ],
   "source": [
    "p33 = Pump33(chain, address=0) "
   ]
  },
  {
   "cell_type": "code",
   "execution_count": 185,
   "metadata": {
    "collapsed": false
   },
   "outputs": [
    {
     "data": {
      "text/plain": [
       "'00'"
      ]
     },
     "execution_count": 185,
     "metadata": {},
     "output_type": "execute_result"
    }
   ],
   "source": [
    "p33.address"
   ]
  },
  {
   "cell_type": "code",
   "execution_count": 95,
   "metadata": {
    "collapsed": false
   },
   "outputs": [],
   "source": [
    "p33.setmode('PRO')"
   ]
  },
  {
   "cell_type": "code",
   "execution_count": 179,
   "metadata": {
    "collapsed": false,
    "scrolled": false
   },
   "outputs": [
    {
     "ename": "ValueError",
     "evalue": "Unknown format code 's' for object of type 'int'",
     "output_type": "error",
     "traceback": [
      "\u001b[1;31m---------------------------------------------------------------------------\u001b[0m",
      "\u001b[1;31mValueError\u001b[0m                                Traceback (most recent call last)",
      "\u001b[1;32m<ipython-input-179-fc8f815a84bb>\u001b[0m in \u001b[0;36m<module>\u001b[1;34m()\u001b[0m\n\u001b[1;32m----> 1\u001b[1;33m \u001b[0mp33\u001b[0m\u001b[1;33m.\u001b[0m\u001b[0msetdiameter1\u001b[0m\u001b[1;33m(\u001b[0m\u001b[1;36m55\u001b[0m\u001b[1;33m)\u001b[0m\u001b[1;33m\u001b[0m\u001b[0m\n\u001b[0m",
      "\u001b[1;32m<ipython-input-174-543f7f8d5437>\u001b[0m in \u001b[0;36msetdiameter1\u001b[1;34m(self, diameter)\u001b[0m\n\u001b[0;32m    100\u001b[0m         \u001b[1;32mif\u001b[0m \u001b[0mdiameter\u001b[0m \u001b[1;33m>\u001b[0m \u001b[1;36m50\u001b[0m \u001b[1;32mor\u001b[0m \u001b[0mdiameter\u001b[0m \u001b[1;33m<\u001b[0m \u001b[1;36m0.1\u001b[0m\u001b[1;33m:\u001b[0m\u001b[1;33m\u001b[0m\u001b[0m\n\u001b[0;32m    101\u001b[0m             raise PumpError('{:s}: diameter {:s} mm is out of range'.format\n\u001b[1;32m--> 102\u001b[1;33m                             (self.name, diameter))\n\u001b[0m\u001b[0;32m    103\u001b[0m \u001b[1;33m\u001b[0m\u001b[0m\n\u001b[0;32m    104\u001b[0m         \u001b[1;31m# TODO: Got to be a better way of doing this with string formatting\u001b[0m\u001b[1;33m\u001b[0m\u001b[1;33m\u001b[0m\u001b[0m\n",
      "\u001b[1;31mValueError\u001b[0m: Unknown format code 's' for object of type 'int'"
     ]
    }
   ],
   "source": [
    "p33.setdiameter1(55)"
   ]
  },
  {
   "cell_type": "code",
   "execution_count": 132,
   "metadata": {
    "collapsed": false,
    "scrolled": true
   },
   "outputs": [
    {
     "name": "stdout",
     "output_type": "stream",
     "text": [
      "'\\nOOR\\r'\n"
     ]
    }
   ],
   "source": [
    "p33.setflowrate1(1000)"
   ]
  },
  {
   "cell_type": "code",
   "execution_count": 198,
   "metadata": {
    "collapsed": false
   },
   "outputs": [
    {
     "name": "stdout",
     "output_type": "stream",
     "text": [
      "hua is currently living in 0.500000\n"
     ]
    }
   ],
   "source": [
    "a = 'hua'\n",
    "\n",
    "print ('%s is currently '\n",
    "       'living in %f' % (a, 0.5))"
   ]
  },
  {
   "cell_type": "code",
   "execution_count": null,
   "metadata": {
    "collapsed": true
   },
   "outputs": [],
   "source": [
    "p11 = pumpy.Pump(chain,address=1) \n",
    "p11.setdiameter(10)  # mm\n",
    "p11.setflowrate(2000)  ## microL/min\n",
    "p11.settargetvolume(200)  ## microL\n",
    "p11.infuse()\n",
    "p11.waituntiltarget()  ## blocks until target reached\n",
    "p11.withdraw()\n",
    "p11.waituntiltarget()\n",
    "\n",
    "phd = pumpy.PHD2000(chain,address=4)\n",
    "phd.setdiameter(24)\n",
    "phd.setflowrate(600)\n",
    "phd.infuse()\n",
    "phd.stop()\n",
    "phd.withdraw()\n",
    "phd.stop()\n",
    "phd.settargetvolume(100)\n",
    "phd.infuse()\n",
    "phd.waituntiltarget()\n",
    "\n",
    "chain.close()"
   ]
  }
 ],
 "metadata": {
  "kernelspec": {
   "display_name": "Python 2",
   "language": "python",
   "name": "python2"
  },
  "language_info": {
   "codemirror_mode": {
    "name": "ipython",
    "version": 2
   },
   "file_extension": ".py",
   "mimetype": "text/x-python",
   "name": "python",
   "nbconvert_exporter": "python",
   "pygments_lexer": "ipython2",
   "version": "2.7.10"
  }
 },
 "nbformat": 4,
 "nbformat_minor": 0
}
